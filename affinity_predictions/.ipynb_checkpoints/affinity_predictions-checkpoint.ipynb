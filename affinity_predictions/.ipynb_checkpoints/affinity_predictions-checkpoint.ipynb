{
 "cells": [
  {
   "cell_type": "code",
   "execution_count": null,
   "id": "cabb10e9-6f7c-41e3-90ce-140d511b8fe1",
   "metadata": {},
   "outputs": [],
   "source": [
    "import numpy as np\n",
    "import pandas as pd"
   ]
  },
  {
   "cell_type": "code",
   "execution_count": null,
   "id": "cec58649-14bb-4adb-8673-6d4121187459",
   "metadata": {},
   "outputs": [],
   "source": [
    "# to do:\n",
    "## psam prediction code\n",
    "## pwm prediction code\n",
    "## slidng Z score code\n",
    "## partition function code"
   ]
  },
  {
   "cell_type": "code",
   "execution_count": null,
   "id": "33bf5a89-839f-434a-ba4f-641f8150b4c8",
   "metadata": {},
   "outputs": [],
   "source": []
  },
  {
   "cell_type": "markdown",
   "id": "dff8aace-61a9-4d82-a175-f4308a1c8a2c",
   "metadata": {},
   "source": [
    "# PSAM prediction"
   ]
  },
  {
   "cell_type": "code",
   "execution_count": null,
   "id": "01fde1c7-7437-4b79-883a-bb897958d2d7",
   "metadata": {},
   "outputs": [],
   "source": []
  },
  {
   "cell_type": "markdown",
   "id": "6ea519fe-d3e6-48b1-9921-5c240600ba88",
   "metadata": {},
   "source": [
    "# PWM prediction"
   ]
  },
  {
   "cell_type": "markdown",
   "id": "34c2cc80-c640-4147-a99a-875da768f2b3",
   "metadata": {},
   "source": [
    "# Sliding Z-score prediction"
   ]
  },
  {
   "cell_type": "code",
   "execution_count": 2,
   "id": "1f103eea-1d7a-4385-9ef8-88ab53d1d7f1",
   "metadata": {},
   "outputs": [],
   "source": [
    "# gives ddG in kcal. Negative means oligo 2 is a tigher binder than oligo 1. Positive means oligo 2 is a weaker binder.\n",
    "def ddG(Kd1, Kd2, R=1.9872036e-3, T=295):\n",
    "    return R*T*np.log(Kd2/Kd1)\n",
    "\n",
    "def sliding_Z(sequence, Z_dict):\n",
    "    return np.sum([Z_dict[sequence[i:i+8]] for i in range(len(sequence)-7)])"
   ]
  },
  {
   "cell_type": "markdown",
   "id": "87b6acf3-5844-4436-b735-e994f9c00735",
   "metadata": {},
   "source": [
    "# Partition function prediction"
   ]
  },
  {
   "cell_type": "code",
   "execution_count": null,
   "id": "b3f8869a-6878-40a2-9228-2f140fb75310",
   "metadata": {},
   "outputs": [],
   "source": [
    "def compute_gibbs_calibrated(E_array, slope, kBT=0.593):\n",
    "    partition = [np.exp(-E/kBT) for E in E_array]\n",
    "    return -slope*kBT*np.log(np.sum(partition))\n",
    "\n",
    "def compute_enthalpy_calibrated(E_array, slope, kBT=0.593):\n",
    "    enthalpy_array = [E*np.exp(-E/kBT) for E in E_array]\n",
    "    enthalpy_array /= np.sum([np.exp(-E/kBT) for E in E_array])\n",
    "    return slope*np.sum(enthalpy_array)\n",
    "\n",
    "def compute_entropy_calibrated(E_array, slope, kBT=0.593):\n",
    "    p_array = compute_p_array(E_array)\n",
    "    entropy_array = [p*np.log(p) for p in p_array]\n",
    "    return -slope*np.sum(entropy_array)"
   ]
  }
 ],
 "metadata": {
  "kernelspec": {
   "display_name": "Python 3 (ipykernel)",
   "language": "python",
   "name": "python3"
  },
  "language_info": {
   "codemirror_mode": {
    "name": "ipython",
    "version": 3
   },
   "file_extension": ".py",
   "mimetype": "text/x-python",
   "name": "python",
   "nbconvert_exporter": "python",
   "pygments_lexer": "ipython3",
   "version": "3.9.7"
  }
 },
 "nbformat": 4,
 "nbformat_minor": 5
}
