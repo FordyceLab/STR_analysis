{
 "cells": [
  {
   "cell_type": "code",
   "execution_count": 1,
   "metadata": {},
   "outputs": [],
   "source": [
    "import numpy as np\n",
    "from scipy import stats, optimize\n",
    "from tqdm import tqdm\n",
    "import matplotlib.pyplot as plt\n",
    "import pandas as pd\n",
    "import seaborn as sns\n",
    "\n",
    "np.random.seed(0)"
   ]
  },
  {
   "cell_type": "code",
   "execution_count": 2,
   "metadata": {},
   "outputs": [],
   "source": [
    "def compute_p_array(E_array, kBT=0.593):\n",
    "    p_array = [np.exp(-E/kBT) for E in E_array]\n",
    "    p_array /= np.sum(p_array)\n",
    "    return p_array\n",
    "\n",
    "def compute_gibbs(E_array, slope=1, kBT=0.593):\n",
    "    partition = [np.exp(-E/kBT) for E in E_array]\n",
    "    return -slope*kBT*np.log(np.sum(partition))\n",
    "\n",
    "def compute_enthalpy(E_array, slope=1, kBT=0.593):\n",
    "    enthalpy_array = [E*np.exp(-E/kBT) for E in E_array]\n",
    "    enthalpy_array /= np.sum([np.exp(-E/kBT) for E in E_array])\n",
    "    return slope*np.sum(enthalpy_array)\n",
    "\n",
    "def compute_entropy(E_array, slope=1, kBT=0.593):\n",
    "    p_array = compute_p_array(E_array)\n",
    "    entropy_array = [p*np.log(p) for p in p_array]\n",
    "    return -slope*np.sum(entropy_array)\n",
    "\n",
    "def gibbs_wrapper(sequence, E_dict):\n",
    "    return compute_gibbs([E_dict[sequence[i:i+8]] for i in range(len(sequence)-7)])"
   ]
  },
  {
   "cell_type": "code",
   "execution_count": 3,
   "metadata": {},
   "outputs": [],
   "source": [
    "N = 10000\n",
    "seqlen = 100\n",
    "T = 295\n",
    "kBT = 0.593\n",
    "MAX_slope = 4.03\n",
    "Pho4_slope = 3.00"
   ]
  },
  {
   "cell_type": "markdown",
   "metadata": {},
   "source": [
    "## Load MAX and Pho4 data"
   ]
  },
  {
   "cell_type": "code",
   "execution_count": 4,
   "metadata": {},
   "outputs": [],
   "source": [
    "Zscores = pd.read_csv('Zscores_MAX_Pho4.csv')\n",
    "\n",
    "# MAX data\n",
    "MAX_Zscores = Zscores['MAX']\n",
    "MAX_E_dist = np.load('MAX_E_dist.npy')\n",
    "MAX_EZ = pd.DataFrame({'8mer':list(Zscores['8mer']),'E':MAX_E_dist,'Z':list(MAX_Zscores)})\n",
    "\n",
    "\n",
    "# Pho4 data\n",
    "Pho4_Zscores = Zscores['Pho4']\n",
    "Pho4_E_dist = np.load('Pho4_E_dist.npy')\n",
    "Pho4_EZ = pd.DataFrame({'8mer':list(Zscores['8mer']),'E':Pho4_E_dist,'Z':list(Pho4_Zscores)})"
   ]
  },
  {
   "cell_type": "code",
   "execution_count": null,
   "metadata": {},
   "outputs": [],
   "source": []
  },
  {
   "cell_type": "markdown",
   "metadata": {},
   "source": [
    "## Simulate effect of repeat unit on MAX binding"
   ]
  },
  {
   "cell_type": "code",
   "execution_count": 5,
   "metadata": {},
   "outputs": [
    {
     "name": "stderr",
     "output_type": "stream",
     "text": [
      "100%|█████████████████████████████████████████████| 6/6 [00:18<00:00,  3.09s/it]\n"
     ]
    }
   ],
   "source": [
    "# simulate repeats from 1-6 bp units\n",
    "max_repeatsize = 6\n",
    "\n",
    "# compute energetic quantities for random sequences\n",
    "rand_sample = np.random.choice(MAX_E_dist, size=(N,seqlen))\n",
    "rand_enthalpies = [compute_enthalpy(x,MAX_slope) for x in rand_sample]\n",
    "rand_entropies = [compute_entropy(x,MAX_slope) for x in rand_sample]\n",
    "rand_gibbs = [compute_gibbs(x,MAX_slope) for x in rand_sample]\n",
    "\n",
    "# compute energetic quantities for repeat sequences\n",
    "rpt_enthalpies = np.zeros((max_repeatsize,N))\n",
    "rpt_entropies = np.zeros((max_repeatsize,N))\n",
    "rpt_gibbs = np.zeros((max_repeatsize,N))\n",
    "for i in tqdm(range(max_repeatsize)):\n",
    "    samples = np.random.choice(MAX_E_dist, size=(N,i+1))\n",
    "    sequence_energies = np.array([np.tile(x,int(1+seqlen/(i+1)))[:seqlen] for x in samples])\n",
    "    rpt_enthalpies[i] = [compute_enthalpy(x,MAX_slope) for x in sequence_energies]\n",
    "    rpt_entropies[i] = [compute_entropy(x,MAX_slope) for x in sequence_energies]\n",
    "    rpt_gibbs[i] = [compute_gibbs(x,MAX_slope) for x in sequence_energies]\n",
    "\n",
    "# normalize and store data for plotting\n",
    "rpt_ddG = [x-np.mean(rand_gibbs) for x in rpt_gibbs]\n",
    "rand_ddG = rand_gibbs - np.mean(rand_gibbs)\n",
    "boxes = np.vstack([rand_entropies,[x for x in rpt_entropies]]).T-np.median(rand_entropies)\n",
    "boxes_MAX = boxes*kBT"
   ]
  },
  {
   "cell_type": "markdown",
   "metadata": {},
   "source": [
    "## Simulate effect of repeat unit on Pho4 binding"
   ]
  },
  {
   "cell_type": "code",
   "execution_count": 6,
   "metadata": {},
   "outputs": [
    {
     "name": "stderr",
     "output_type": "stream",
     "text": [
      "100%|█████████████████████████████████████████████| 6/6 [00:18<00:00,  3.10s/it]\n"
     ]
    }
   ],
   "source": [
    "# simulate repeats from 1-6 bp units\n",
    "max_repeatsize = 6\n",
    "\n",
    "# compute energetic quantities for random sequences\n",
    "rand_sample = np.random.choice(Pho4_E_dist, size=(N,seqlen))\n",
    "rand_enthalpies = [compute_enthalpy(x,Pho4_slope) for x in rand_sample]\n",
    "rand_entropies = [compute_entropy(x,Pho4_slope) for x in rand_sample]\n",
    "rand_gibbs = [compute_gibbs(x,Pho4_slope) for x in rand_sample]\n",
    "\n",
    "# compute energetic quantities for repeat sequences\n",
    "rpt_enthalpies = np.zeros((max_repeatsize,N))\n",
    "rpt_entropies = np.zeros((max_repeatsize,N))\n",
    "rpt_gibbs = np.zeros((max_repeatsize,N))\n",
    "for i in tqdm(range(max_repeatsize)):\n",
    "    samples = np.random.choice(Pho4_E_dist, size=(N,i+1))\n",
    "    sequence_energies = np.array([np.tile(x,int(1+seqlen/(i+1)))[:seqlen] for x in samples])\n",
    "    rpt_enthalpies[i] = [compute_enthalpy(x,Pho4_slope) for x in sequence_energies]\n",
    "    rpt_entropies[i] = [compute_entropy(x,Pho4_slope) for x in sequence_energies]\n",
    "    rpt_gibbs[i] = [compute_gibbs(x,Pho4_slope) for x in sequence_energies]\n",
    "\n",
    "# normalize and store data for plotting\n",
    "rpt_ddG = [x-np.mean(rand_gibbs) for x in rpt_gibbs]\n",
    "rand_ddG = rand_gibbs - np.mean(rand_gibbs)\n",
    "boxes = np.vstack([rand_entropies,[x for x in rpt_entropies]]).T-np.median(rand_entropies)\n",
    "boxes_Pho4 = boxes*kBT"
   ]
  },
  {
   "cell_type": "code",
   "execution_count": null,
   "metadata": {},
   "outputs": [],
   "source": []
  },
  {
   "cell_type": "code",
   "execution_count": 7,
   "metadata": {},
   "outputs": [
    {
     "data": {
      "image/png": "[encoded data removed]",
      "text/plain": [
       "<Figure size 504x324 with 1 Axes>"
      ]
     },
     "metadata": {
      "needs_background": "light"
     },
     "output_type": "display_data"
    }
   ],
   "source": [
    "# plot results of entropy simulation\n",
    "fig = plt.figure(figsize=(7,4.5))\n",
    "ax = fig.add_subplot(111)\n",
    "\n",
    "# organize and plot data\n",
    "c = np.empty((boxes_MAX.shape[0], boxes_MAX.shape[1] + boxes_Pho4.shape[1]), dtype=boxes_Pho4.dtype)\n",
    "c[:,0::2] = boxes_MAX\n",
    "c[:,1::2] = boxes_Pho4\n",
    "c_array = ['blue','orange']*7\n",
    "sns.boxplot(data=c, palette=c_array, fliersize=0)\n",
    "ax.scatter(np.arange(14),np.mean(c,axis=0),marker='^',ec='k',fc='k')\n",
    "ax.set_ylim(-0.4,0.15)\n",
    "ax.set_ylabel('Simulated T∆S (kcal/mol)', fontsize=16)\n",
    "ax.set_xticks(np.arange(0.5,14,2))\n",
    "ax.set_xticklabels(['rand','1','2','3','4','5','6'])\n",
    "ax.axhline(0,c='k',ls='--')\n",
    "\n",
    "# make legend\n",
    "a = ax.bar([0],[0,0,0],fc='blue')\n",
    "b = ax.bar([0],[0,0,0],fc='orange')\n",
    "ax.legend([a,b],['MAX', 'Pho4'], loc='lower right', fontsize=14)\n",
    "\n",
    "fig.tight_layout()\n",
    "fig.savefig('TdS_simulation_withmean.png')"
   ]
  },
  {
   "cell_type": "code",
   "execution_count": null,
   "metadata": {},
   "outputs": [],
   "source": []
  },
  {
   "cell_type": "markdown",
   "metadata": {},
   "source": [
    "## Simulate Gibbs free energy for repeats across Z-score distribution"
   ]
  },
  {
   "cell_type": "code",
   "execution_count": 8,
   "metadata": {},
   "outputs": [],
   "source": [
    "def simulate_Zranges(rpt_unit, E_dist, Z_ranges, slope, N=10000):\n",
    "\n",
    "    rpt_enthalpies = np.zeros((len(Z_ranges),N))\n",
    "    rpt_entropies = np.zeros((len(Z_ranges),N))\n",
    "    rpt_gibbs = np.zeros((len(Z_ranges),N))\n",
    "\n",
    "    rand_sample = np.random.choice(E_dist, size=(N,seqlen))\n",
    "\n",
    "    rand_enthalpies = [compute_enthalpy(x,slope) for x in rand_sample]\n",
    "    rand_entropies = [compute_entropy(x,slope) for x in rand_sample]\n",
    "    rand_gibbs = [compute_gibbs(x,slope) for x in rand_sample]\n",
    "\n",
    "\n",
    "    for i, z_range in tqdm(enumerate(Z_ranges)):\n",
    "        x,y = z_range\n",
    "        subset = E_dist[E_dist<x]\n",
    "        subset = subset[subset>y]\n",
    "        samples = np.random.choice(subset, size=(N,rpt_unit))\n",
    "        sequence_energies = np.array([np.tile(x,int(1+seqlen/rpt_unit))[:seqlen] for x in samples])\n",
    "        rpt_enthalpies[i] = [compute_enthalpy(x,slope) for x in sequence_energies]\n",
    "        rpt_entropies[i] = [compute_entropy(x,slope) for x in sequence_energies]\n",
    "        rpt_gibbs[i] = [compute_gibbs(x,slope) for x in sequence_energies]\n",
    "        \n",
    "    df_array = []\n",
    "\n",
    "    for i in range(len(Z_ranges)):\n",
    "        for j, array in enumerate([rpt_enthalpies, rpt_entropies, rpt_gibbs]):\n",
    "            for k in array[i]:\n",
    "                if j==1:\n",
    "                    df_array.append([i,j,-kBT*k])\n",
    "                else:\n",
    "                    df_array.append([i,j,k])\n",
    "\n",
    "    for i in range(N):\n",
    "        df_array.append([-1, 1, -kBT*rand_entropies[i]])\n",
    "        df_array.append([-1, 2, rand_gibbs[i]])\n",
    "\n",
    "    df = pd.DataFrame(df_array, columns=['Z_range','Quantity','Value'])\n",
    "    df['Quantity'].loc[df[df['Quantity']==0].index] = '∆H'\n",
    "    df['Quantity'].loc[df[df['Quantity']==1].index] = '-T∆S'\n",
    "    df['Quantity'].loc[df[df['Quantity']==2].index] = '∆G'\n",
    "\n",
    "    df.loc[df[df['Quantity']==1].index, 'Value'] *= -kBT\n",
    "\n",
    "    rand = df[df['Z_range']==-1]\n",
    "    rand_mean = np.mean(rand[rand['Quantity']=='-T∆S']['Value'])\n",
    "\n",
    "    df_ddG = df.copy()\n",
    "    df_ddG['Value'] -= rand_mean\n",
    "\n",
    "    temp = df_ddG[df_ddG['Z_range']==0]\n",
    "    differential = temp[temp['Quantity']=='∆G'].mean()['Value']-temp[temp['Quantity']=='-T∆S'].mean()['Value']\n",
    "    df_ddG.loc[df_ddG[df_ddG['Quantity']=='∆G'].index,'Value'] -= differential\n",
    "    \n",
    "    return df_ddG"
   ]
  },
  {
   "cell_type": "code",
   "execution_count": 9,
   "metadata": {},
   "outputs": [
    {
     "data": {
      "image/png": "[encoded data removed]",
      "text/plain": [
       "<Figure size 360x360 with 1 Axes>"
      ]
     },
     "metadata": {
      "needs_background": "light"
     },
     "output_type": "display_data"
    }
   ],
   "source": [
    "# find which E values correspond to Z-score ranges\n",
    "\n",
    "fig = plt.figure(figsize=(5,5))\n",
    "ax = fig.add_subplot(111)\n",
    "\n",
    "ax.scatter(MAX_EZ['Z'], MAX_EZ['E'])\n",
    "slope, intercept, r, p, _ = stats.linregress(MAX_EZ['Z'], MAX_EZ['E'])\n",
    "x = np.linspace(-4,90)\n",
    "ax.plot(x,x*slope+intercept,'k--')\n",
    "\n",
    "Z_bins = [-1,0,1,2,3,5,10]\n",
    "E_bins = [z*slope+intercept for z in Z_bins]\n",
    "Z_ranges_MAX = np.vstack([E_bins[:-1], E_bins[1:]]).T"
   ]
  },
  {
   "cell_type": "code",
   "execution_count": 10,
   "metadata": {},
   "outputs": [
    {
     "data": {
      "image/png": "[encoded data removed]",
      "text/plain": [
       "<Figure size 360x360 with 1 Axes>"
      ]
     },
     "metadata": {
      "needs_background": "light"
     },
     "output_type": "display_data"
    }
   ],
   "source": [
    "# find which E values correspond to Z-score ranges\n",
    "\n",
    "fig = plt.figure(figsize=(5,5))\n",
    "ax = fig.add_subplot(111)\n",
    "\n",
    "ax.scatter(Pho4_EZ['Z'], Pho4_EZ['E'])\n",
    "slope, intercept, r, p, _ = stats.linregress(Pho4_EZ['Z'], Pho4_EZ['E'])\n",
    "x = np.linspace(-4,90)\n",
    "ax.plot(x,x*slope+intercept,'k--')\n",
    "\n",
    "Z_bins = [-1,0,1,2,3,5,10]\n",
    "E_bins = [z*slope+intercept for z in Z_bins]\n",
    "Z_ranges_Pho4 = np.vstack([E_bins[:-1], E_bins[1:]]).T"
   ]
  },
  {
   "cell_type": "code",
   "execution_count": 11,
   "metadata": {},
   "outputs": [
    {
     "name": "stderr",
     "output_type": "stream",
     "text": [
      "6it [00:18,  3.13s/it]\n",
      "/opt/homebrew/lib/python3.9/site-packages/pandas/core/indexing.py:1732: SettingWithCopyWarning: \n",
      "A value is trying to be set on a copy of a slice from a DataFrame\n",
      "\n",
      "See the caveats in the documentation: https://pandas.pydata.org/pandas-docs/stable/user_guide/indexing.html#returning-a-view-versus-a-copy\n",
      "  self._setitem_single_block(indexer, value, name)\n",
      "/var/folders/81/9mfsrytn1yb2wy3wn0_gg6wh0000gn/T/ipykernel_32445/3586466536.py:52: FutureWarning: Dropping of nuisance columns in DataFrame reductions (with 'numeric_only=None') is deprecated; in a future version this will raise TypeError.  Select only valid columns before calling the reduction.\n",
      "  differential = temp[temp['Quantity']=='∆G'].mean()['Value']-temp[temp['Quantity']=='-T∆S'].mean()['Value']\n",
      "6it [00:19,  3.19s/it]\n"
     ]
    },
    {
     "data": {
      "image/png": "[encoded data removed]",
      "text/plain": [
       "<Figure size 504x360 with 1 Axes>"
      ]
     },
     "metadata": {
      "needs_background": "light"
     },
     "output_type": "display_data"
    }
   ],
   "source": [
    "fig = plt.figure(figsize=(7,5))\n",
    "ax = fig.add_subplot(111)\n",
    "\n",
    "# simulate dinucleotide repeat\n",
    "repeat_unit = 2\n",
    "df_ddG_MAX = simulate_Zranges(repeat_unit, MAX_E_dist, Z_ranges_MAX, MAX_slope)\n",
    "df_ddG_Pho4 = simulate_Zranges(repeat_unit, Pho4_E_dist, Z_ranges_Pho4, Pho4_slope)\n",
    "\n",
    "# plot results\n",
    "w = 0.35\n",
    "x = np.arange(6)\n",
    "MAX_colors = ['lightskyblue', 'b']\n",
    "Pho4_colors = ['gold', 'orange']\n",
    "for i, q in enumerate(['∆G', '-T∆S']):\n",
    "    MAX_df = df_ddG_MAX[df_ddG_MAX['Quantity']==q]\n",
    "    MAX_y = []\n",
    "    MAX_yerr = []\n",
    "    Pho4_df = df_ddG_Pho4[df_ddG_Pho4['Quantity']==q]\n",
    "    Pho4_y = []\n",
    "    Pho4_yerr = []\n",
    "    for j in x:\n",
    "        temp_df = MAX_df[MAX_df['Z_range']==j]\n",
    "        MAX_y.append(np.mean(temp_df['Value']))\n",
    "        MAX_yerr.append(np.std(temp_df['Value']))\n",
    "        temp_df = Pho4_df[Pho4_df['Z_range']==j]\n",
    "        Pho4_y.append(np.mean(temp_df['Value']))\n",
    "        Pho4_yerr.append(np.std(temp_df['Value']))\n",
    "    ax.bar(x-0.6*w,MAX_y,yerr=MAX_yerr, width=w, capsize=4, fc=MAX_colors[i], ec='k')\n",
    "    ax.bar(x+0.6*w,Pho4_y,yerr=Pho4_yerr, width=w, capsize=4, fc=Pho4_colors[i], ec='k')\n",
    "ax.set_xticks(x)\n",
    "ax.set_xticklabels(['Z<0', '0<Z<1', '1<Z<2', '2<Z<3', '3<Z<5', '5<Z<10'])\n",
    "ax.tick_params(labelsize=13)\n",
    "ax.set_ylabel('Simulated ∆∆G (kcal/mol)', fontsize=18)\n",
    "\n",
    "# make legend\n",
    "a = ax.bar(0,0,color='lightskyblue')\n",
    "b = ax.bar(0,0,color='b')\n",
    "c = ax.bar(0,0,color='gold')\n",
    "d = ax.bar(0,0,color='orange')\n",
    "ax.legend([a,b,c,d], ['MAX ∆H', 'MAX T∆S','Pho4 ∆H', 'Pho4 T∆S'], fontsize=13)\n",
    "\n",
    "fig.tight_layout()\n",
    "fig.savefig('dGsimulation_Zranges_normalized_repeat2bp.png')"
   ]
  },
  {
   "cell_type": "code",
   "execution_count": null,
   "metadata": {},
   "outputs": [],
   "source": []
  }
 ],
 "metadata": {
  "kernelspec": {
   "display_name": "Python 3 (ipykernel)",
   "language": "python",
   "name": "python3"
  },
  "language_info": {
   "codemirror_mode": {
    "name": "ipython",
    "version": 3
   },
   "file_extension": ".py",
   "mimetype": "text/x-python",
   "name": "python",
   "nbconvert_exporter": "python",
   "pygments_lexer": "ipython3",
   "version": "3.9.7"
  }
 },
 "nbformat": 4,
 "nbformat_minor": 4
}
