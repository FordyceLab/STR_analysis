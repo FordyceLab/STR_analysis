{
 "cells": [
  {
   "cell_type": "code",
   "execution_count": 3,
   "id": "c1ab7b1d-d420-4809-858b-a01d4598e05b",
   "metadata": {},
   "outputs": [],
   "source": [
    "import pandas as pd\n",
    "import numpy as np\n",
    "from tqdm import tqdm\n",
    "import matplotlib.pyplot as plt"
   ]
  },
  {
   "cell_type": "code",
   "execution_count": 17,
   "id": "bf137c8f-a627-45b5-816c-573ae921906e",
   "metadata": {},
   "outputs": [],
   "source": [
    "def enrichment_calc(enhancer_dict, trf_dict, seqlen):\n",
    "    '''\n",
    "    Calculate enrichment of STRs in enhancers.\n",
    "    \n",
    "    1. construct contingency table:\n",
    "              \n",
    "            | enhancer | not enhancer |\n",
    "    -----------------------------------\n",
    "    STR     |    q1    |      q2      |\n",
    "    not STR |    q3    |      q4      |\n",
    "    -----------------------------------\n",
    "    \n",
    "    2. calculate OR = q1*q4/(q2*q4)\n",
    "    3. calculate std err = √(1/q1+1/q2+1/q3+1/q4)\n",
    "    '''\n",
    "    q1 = np.sum([len(np.intersect1d(enhancer_dict[x], trf_dict[x])) for x in enhancer_dict])\n",
    "    q2 = np.sum([len(enhancer_dict[x]) - len(np.intersect1d(enhancer_dict[x], trf_dict[x])) for x in enhancer_dict])\n",
    "    q3 = np.sum([len(trf_dict[x]) - len(np.intersect1d(enhancer_dict[x], trf_dict[x])) for x in enhancer_dict])\n",
    "    q4 = seqlen - np.sum([q1, q2, q3])\n",
    "    \n",
    "    # calculate odds ratio\n",
    "    OR = q1*q4/(q2*q3)\n",
    "    # calculate standard error of OR\n",
    "    stderr = np.sqrt((1/q1+1/q2+1/q3+1/q4))\n",
    "\n",
    "    return OR, stderr"
   ]
  },
  {
   "cell_type": "code",
   "execution_count": 7,
   "id": "695325cf-fde5-4e45-96c2-7dbec690d020",
   "metadata": {},
   "outputs": [],
   "source": [
    "# load some basic info about human genome\n",
    "chromsize_df = pd.read_csv('hg38.chrom.sizes.txt', delimiter='\\t', names=['size']).drop('chrY')\n",
    "chroms = list(chromsize_df.index)\n",
    "genomesize = np.sum(chromsize_df.loc[chroms])[0]"
   ]
  },
  {
   "cell_type": "markdown",
   "id": "f3a44c45-f6b3-444c-9afe-966893768800",
   "metadata": {
    "tags": []
   },
   "source": [
    "## Load in data from TRF"
   ]
  },
  {
   "cell_type": "code",
   "execution_count": 8,
   "id": "026fdf1b-b93b-4775-889f-6a6857aafe07",
   "metadata": {},
   "outputs": [
    {
     "name": "stderr",
     "output_type": "stream",
     "text": [
      "100%|█████████████████████████████████████████████| 23/23 [00:25<00:00,  1.09s/it]\n"
     ]
    }
   ],
   "source": [
    "# load in list of STRs in the genome\n",
    "trf_dfs = {}\n",
    "for chrom in chroms:\n",
    "    trf_dfs[chrom] = pd.read_csv('/Users/connor/Documents/fordycelab/TRF/hg38/TRF_output/%s_repeats.csv' % chrom)\n",
    "    \n",
    "# organize STRs into dictionary with a list of genomic coordinates for each chromosome\n",
    "trf_dict = {}\n",
    "for chrom in tqdm(trf_dfs):\n",
    "    trf_dfs[chrom] = trf_dfs[chrom][trf_dfs[chrom]['consensus_size']<5]\n",
    "    trf_dict[chrom] = np.hstack([np.arange(row['start'], row['end']+1) for i,row in trf_dfs[chrom].iterrows()])\n",
    "    \n",
    "trf_dict = {k: np.unique(v) for k,v in trf_dict.items()}"
   ]
  },
  {
   "cell_type": "markdown",
   "id": "def4ffd4-c4c0-4610-835e-f6211e6cf8d5",
   "metadata": {},
   "source": [
    "### load enhancer annotations\n",
    "sources:\n",
    "- FANTOM5: https://fantom.gsc.riken.jp/5/\n",
    "- Enhancer atlas: http://www.enhanceratlas.org/index.php\n",
    "- HACER: http://bioinfo.vanderbilt.edu/AE/HACER/index.html"
   ]
  },
  {
   "cell_type": "code",
   "execution_count": 4,
   "id": "b8b0bafc-d79f-4cb1-b424-daed3528be1d",
   "metadata": {},
   "outputs": [],
   "source": [
    "F5_df = pd.read_csv('enhancer_annotations/F5.hg38.enhancers.bed', delimiter='\\t',names=['chr', 'start', 'end', 'name', 'score'], usecols=np.arange(5))\n",
    "EA2_df = pd.read_csv('enhancer_annotations/hs_enhancers_hg38.bed', delimiter='\\t',names=['chr', 'start', 'end'])\n",
    "HACER_df = pd.read_csv('enhancer_annotations/HACER_hg38.bed', delimiter='\\t', names=['chr', 'start', 'end'])"
   ]
  },
  {
   "cell_type": "code",
   "execution_count": 27,
   "id": "ea380dcd-154a-415e-b4d7-c3004831eb7d",
   "metadata": {},
   "outputs": [],
   "source": [
    "f5_dict = {}\n",
    "\n",
    "for i in chroms:\n",
    "    f5_dict[i] = np.hstack([np.arange(row['start'], row['end']+1) for i,row in F5_df[F5_df['chr']==i].iterrows()])\n",
    "    \n",
    "f5_dict = {k: np.unique(v) for k,v in f5_dict.items()}"
   ]
  },
  {
   "cell_type": "code",
   "execution_count": 28,
   "id": "3dba9f25-b332-4421-be72-a244b9e33c97",
   "metadata": {},
   "outputs": [],
   "source": [
    "ea2_dict = {}\n",
    "\n",
    "for i in chroms:\n",
    "    ea2_dict[i] = np.hstack([np.arange(row['start'], row['end']+1) for i,row in EA2_df[EA2_df['chr']==i].iterrows()])\n",
    "    \n",
    "ea2_dict = {k: np.unique(v) for k,v in ea2_dict.items()}"
   ]
  },
  {
   "cell_type": "code",
   "execution_count": 29,
   "id": "c72c912f-15f0-49f0-8a79-7e45d3ece1d6",
   "metadata": {},
   "outputs": [],
   "source": [
    "hacer_dict = {}\n",
    "\n",
    "for i in chroms:\n",
    "    hacer_dict[i] = np.hstack([np.arange(row['start'], row['end']+1) for i,row in HACER_df[HACER_df['chr']==i].iterrows()])\n",
    "\n",
    "hacer_dict = {k: np.unique(v) for k,v in hacer_dict.items()}"
   ]
  },
  {
   "cell_type": "markdown",
   "id": "87bf9101-0ff8-4431-a460-a791711f01f4",
   "metadata": {},
   "source": [
    "#### dinucleotide-matched negatives"
   ]
  },
  {
   "cell_type": "code",
   "execution_count": 52,
   "id": "917af8a7-a515-41a8-87bf-3190c77d4c95",
   "metadata": {},
   "outputs": [
    {
     "name": "stderr",
     "output_type": "stream",
     "text": [
      "/opt/homebrew/lib/python3.9/site-packages/IPython/core/interactiveshell.py:3444: FutureWarning: In a future version of pandas all arguments of read_csv except for the argument 'filepath_or_buffer' will be keyword-only\n",
      "  exec(code_obj, self.user_global_ns, self.user_ns)\n"
     ]
    }
   ],
   "source": [
    "negatives = pd.read_csv('enhancer_annotations/F5.hg38.negatives.bed.0', '\\t', names=['chr', 'start', 'end', 'classification'])\n",
    "negatives = negatives[negatives['classification']==0]\n",
    "\n",
    "neg_dict = {}\n",
    "\n",
    "for i in chroms:\n",
    "    neg_dict[i] = np.hstack([np.arange(row['start'], row['end']+1) for i,row in negatives[negatives['chr']==i].iterrows()])\n",
    "\n",
    "F5_neg_dict = {k: np.unique(v) for k,v in neg_dict.items()}"
   ]
  },
  {
   "cell_type": "code",
   "execution_count": 46,
   "id": "bd4a0c74-7ab1-49f1-8eb2-ac5b32f6a0b5",
   "metadata": {},
   "outputs": [],
   "source": [
    "negatives = pd.read_csv('enhancer_annotations/EA2_negatives.bed.0', '\\t', names=['chr', 'start', 'end', 'classification'])\n",
    "negatives = negatives[negatives['classification']==0]\n",
    "\n",
    "neg_dict = {}\n",
    "\n",
    "for i in chroms:\n",
    "    neg_dict[i] = np.hstack([np.arange(row['start'], row['end']+1) for i,row in negatives[negatives['chr']==i].iterrows()])\n",
    "\n",
    "EA_neg_dict = {k: np.unique(v) for k,v in neg_dict.items()}"
   ]
  },
  {
   "cell_type": "code",
   "execution_count": 65,
   "id": "ab8e845b-7143-47e8-85e3-c780ff6852d3",
   "metadata": {},
   "outputs": [],
   "source": [
    "negatives = pd.read_csv('enhancer_annotations/HACER_negatives.bed.0', '\\t', names=['chr', 'start', 'end', 'classification'])\n",
    "negatives = negatives[negatives['classification']==0]\n",
    "\n",
    "neg_dict = {}\n",
    "\n",
    "for i in chroms:\n",
    "    neg_dict[i] = np.hstack([np.arange(row['start'], row['end']+1) for i,row in negatives[negatives['chr']==i].iterrows()])\n",
    "\n",
    "HACER_neg_dict = {k: np.unique(v) for k,v in neg_dict.items()}"
   ]
  },
  {
   "cell_type": "markdown",
   "id": "022db547-2c44-4a19-bbf1-f84cbdcf8a4b",
   "metadata": {},
   "source": [
    "# Calculate what percentage of enhancers contain an STR"
   ]
  },
  {
   "cell_type": "code",
   "execution_count": 9,
   "id": "fed36f81-e70e-41dc-9a99-9f7e91db8c79",
   "metadata": {},
   "outputs": [],
   "source": [
    "def calculate_enhancer_STR_overlap(enhancer_df, trf_dict):\n",
    "    '''\n",
    "    given a dataframe with enhancer genome coordinates\n",
    "    and a list of genomic repeats, returns the proportion\n",
    "    of enhancers containing an STR\n",
    "    '''\n",
    "    enhancer_repeats = 0\n",
    "    enhancer_total = len(enhancer_df)\n",
    "\n",
    "    for i in tqdm(chroms):\n",
    "        for j, row in enhancer_df[enhancer_df['chr']==i].iterrows():\n",
    "            temp = trf_dict[i][trf_dict[i]>row['start']]\n",
    "            temp = temp[temp<row['end']]\n",
    "            if len(temp) > 0:\n",
    "                enhancer_repeats += 1\n",
    "    return enhancer_repeats/enhancer_total"
   ]
  },
  {
   "cell_type": "code",
   "execution_count": 10,
   "id": "f7907c42-d2dc-4564-8d1e-5ad799bb70d9",
   "metadata": {},
   "outputs": [
    {
     "name": "stderr",
     "output_type": "stream",
     "text": [
      "100%|█████████████████████████████████████████████| 23/23 [04:09<00:00, 10.83s/it]\n"
     ]
    },
    {
     "data": {
      "text/plain": [
       "0.17468594453662006"
      ]
     },
     "execution_count": 10,
     "metadata": {},
     "output_type": "execute_result"
    }
   ],
   "source": [
    "# calculate enhancer/STR overlap for each enhancer database\n",
    "f5_repeatoverlap = calculate_enhancer_STR_overlap(F5_df,trf_dict)\n",
    "ea_repeatolverlap = calculate_enhancer_STR_overlap(EA2_df,trf_dict)\n",
    "hacer_repeatoverlap = calculate_enhancer_STR_overlap(HACER_df,trf_dict)"
   ]
  },
  {
   "cell_type": "code",
   "execution_count": 25,
   "id": "82390c5d-97a2-41df-866c-a441c8308b74",
   "metadata": {},
   "outputs": [
    {
     "data": {
      "text/plain": [
       "0.24742167315321884"
      ]
     },
     "execution_count": 25,
     "metadata": {},
     "output_type": "execute_result"
    }
   ],
   "source": [
    "np.mean([f5_repeatoverlap, ea_repeatolverlap, hacer_repeatoverlap])"
   ]
  },
  {
   "cell_type": "code",
   "execution_count": 62,
   "id": "4ff7c832-828f-462d-aaca-b88612da7ed6",
   "metadata": {},
   "outputs": [
    {
     "data": {
      "image/png": "[encoded data removed]",
      "text/plain": [
       "<Figure size 288x432 with 1 Axes>"
      ]
     },
     "metadata": {
      "needs_background": "light"
     },
     "output_type": "display_data"
    }
   ],
   "source": [
    "fig = plt.figure(figsize=(4,6))\n",
    "ax = fig.add_subplot(111)\n",
    "\n",
    "ax.bar(range(3), 100*np.array([f5_repeatoverlap, ea_repeatolverlap, hacer_repeatoverlap]),\n",
    "       fc='gray', ec='k')\n",
    "\n",
    "ax.set_xticks(range(3))\n",
    "ax.set_xticklabels(['FANTOM 5', 'Enhancer Atlas', 'HACER'], rotation=90)\n",
    "ax.tick_params(labelsize=14)\n",
    "\n",
    "ax.set_ylabel('% of enhancers containing an STR', fontsize=18)\n",
    "\n",
    "fig.tight_layout()\n",
    "# fig.savefig('enhancer_STR_percentage.png')"
   ]
  },
  {
   "cell_type": "code",
   "execution_count": null,
   "id": "b2c597de-5888-4db4-9d8a-8ea02d12169c",
   "metadata": {},
   "outputs": [],
   "source": []
  },
  {
   "cell_type": "markdown",
   "id": "66c4dc74-6244-4b39-aa97-874209ce8d4b",
   "metadata": {},
   "source": [
    "# Calculate repeat enrichment in STRs"
   ]
  },
  {
   "cell_type": "code",
   "execution_count": 47,
   "id": "49fdfe0c-1216-4fbb-94f2-ab76e097bcb0",
   "metadata": {},
   "outputs": [],
   "source": [
    "# calculate STR enrichment for enhancers for each database\n",
    "F5_OR = enrichment_calc(f5_dict, trf_dict, genomesize)\n",
    "EA_OR = enrichment_calc(ea2_dict, trf_dict, genomesize)\n",
    "HACER_OR = enrichment_calc(hacer_dict, trf_dict, genomesize)\n",
    "\n",
    "# calculate STR enrichment for non-enhancer regions matched on size and nucleotide composition\n",
    "F5_negatives = enrichment_calc(F5_neg_dict, trf_dict, genomesize)\n",
    "EA_negatives = enrichment_calc(EA_neg_dict, trf_dict, genomesize)\n",
    "HACER_negatives = enrichment_calc(HACER_neg_dict, trf_dict, genomesize)"
   ]
  },
  {
   "cell_type": "code",
   "execution_count": 77,
   "id": "2dc4c109-4187-4616-81fa-ae9ecd7389cf",
   "metadata": {},
   "outputs": [
    {
     "name": "stderr",
     "output_type": "stream",
     "text": [
      "The PostScript backend does not support transparency; partially transparent artists will be rendered opaque.\n",
      "The PostScript backend does not support transparency; partially transparent artists will be rendered opaque.\n"
     ]
    },
    {
     "data": {
      "image/png": "[encoded data removed]",
      "text/plain": [
       "<Figure size 324x504 with 1 Axes>"
      ]
     },
     "metadata": {
      "needs_background": "light"
     },
     "output_type": "display_data"
    }
   ],
   "source": [
    "fig = plt.figure(figsize=(4.5,7))\n",
    "ax = fig.add_subplot(111)\n",
    "\n",
    "w = 0.35\n",
    "ax.bar(np.arange(3)-w/2, 100*np.array([F5_OR, EA_OR, HACER_OR])[:,0]-100,\n",
    "       fc='gray', ec='k', width=w)\n",
    "ax.bar(np.arange(3)+w/2, 100*np.array([F5_negatives, EA_negatives, HACER_negatives])[:,0]-100,\n",
    "       fc='black', ec='k', width=w)\n",
    "\n",
    "ax.set_xticks(range(3))\n",
    "ax.set_xticklabels(['FANTOM 5', 'Enhancer Atlas', 'HACER'], rotation=90)\n",
    "ax.tick_params(labelsize=14)\n",
    "ax.legend(['Annotated enhancers','Matched negatives'], fontsize=14)\n",
    "ax.axhline(0,c='k',lw=0.6)\n",
    "ax.set_ylim(-5,20)\n",
    "\n",
    "ax.set_ylabel('% enrichment above genome', fontsize=18)\n",
    "\n",
    "fig.tight_layout()\n",
    "fig.savefig('enhancer_STR_enrichment.png')"
   ]
  },
  {
   "cell_type": "code",
   "execution_count": null,
   "id": "e64a738b-bfc9-4d0f-b129-61db33ced174",
   "metadata": {},
   "outputs": [],
   "source": []
  }
 ],
 "metadata": {
  "kernelspec": {
   "display_name": "Python 3 (ipykernel)",
   "language": "python",
   "name": "python3"
  },
  "language_info": {
   "codemirror_mode": {
    "name": "ipython",
    "version": 3
   },
   "file_extension": ".py",
   "mimetype": "text/x-python",
   "name": "python",
   "nbconvert_exporter": "python",
   "pygments_lexer": "ipython3",
   "version": "3.9.7"
  }
 },
 "nbformat": 4,
 "nbformat_minor": 5
}
